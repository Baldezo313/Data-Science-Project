{
 "cells": [
  {
   "cell_type": "markdown",
   "metadata": {},
   "source": [
    "#  ***Student Performance Analysis with Machine Learning***  \n",
    "   \n",
    "It takes a lot of manual effort to complete the evaluation process as even one college may contain thousands of students.  \n",
    "**In this Data Science Project we will evaluate the performance of a student using Machine Learning techniques and python**.  \n",
    "   \n",
    "Lets start with importing the libraries:\n"
   ]
  },
  {
   "cell_type": "code",
   "execution_count": 2,
   "metadata": {},
   "outputs": [
    {
     "name": "stdout",
     "output_type": "stream",
     "text": [
      "Collecting package metadata (current_repodata.json): ...working... done\n",
      "Solving environment: ...working... done\n",
      "\n",
      "## Package Plan ##\n",
      "\n",
      "  environment location: C:\\Users\\Sony\\anaconda3\n",
      "\n",
      "  added / updated specs:\n",
      "    - plotly\n",
      "\n",
      "\n",
      "The following packages will be downloaded:\n",
      "\n",
      "    package                    |            build\n",
      "    ---------------------------|-----------------\n",
      "    conda-4.10.1               |   py37haa95532_1         2.9 MB\n",
      "    plotly-4.14.3              |             py_0         5.9 MB  plotly\n",
      "    retrying-1.3.3             |           py37_2          16 KB\n",
      "    ------------------------------------------------------------\n",
      "                                           Total:         8.8 MB\n",
      "\n",
      "The following NEW packages will be INSTALLED:\n",
      "\n",
      "  plotly             plotly/noarch::plotly-4.14.3-py_0\n",
      "  retrying           pkgs/main/win-64::retrying-1.3.3-py37_2\n",
      "\n",
      "The following packages will be UPDATED:\n",
      "\n",
      "  conda                                4.9.1-py37haa95532_0 --> 4.10.1-py37haa95532_1\n",
      "\n",
      "\n",
      "\n",
      "Downloading and Extracting Packages\n",
      "\n",
      "conda-4.10.1         | 2.9 MB    |            |   0% \n",
      "conda-4.10.1         | 2.9 MB    |            |   1% \n",
      "conda-4.10.1         | 2.9 MB    | 3          |   4% \n",
      "conda-4.10.1         | 2.9 MB    | #4         |  14% \n",
      "conda-4.10.1         | 2.9 MB    | ##6        |  27% \n",
      "conda-4.10.1         | 2.9 MB    | ###5       |  35% \n",
      "conda-4.10.1         | 2.9 MB    | ####1      |  42% \n",
      "conda-4.10.1         | 2.9 MB    | #####5     |  55% \n",
      "conda-4.10.1         | 2.9 MB    | ######3    |  63% \n",
      "conda-4.10.1         | 2.9 MB    | #######3   |  73% \n",
      "conda-4.10.1         | 2.9 MB    | ########1  |  81% \n",
      "conda-4.10.1         | 2.9 MB    | ########8  |  89% \n",
      "conda-4.10.1         | 2.9 MB    | ########## | 100% \n",
      "conda-4.10.1         | 2.9 MB    | ########## | 100% \n",
      "\n",
      "retrying-1.3.3       | 16 KB     |            |   0% \n",
      "retrying-1.3.3       | 16 KB     | ########## | 100% \n",
      "retrying-1.3.3       | 16 KB     | ########## | 100% \n",
      "\n",
      "plotly-4.14.3        | 5.9 MB    |            |   0% \n",
      "plotly-4.14.3        | 5.9 MB    | ########## | 100% \n",
      "plotly-4.14.3        | 5.9 MB    | ########## | 100% \n",
      "Preparing transaction: ...working... done\n",
      "Verifying transaction: ...working... done\n",
      "Executing transaction: ...working... done\n",
      "\n",
      "Note: you may need to restart the kernel to use updated packages.\n"
     ]
    }
   ],
   "source": [
    "\n",
    "conda install -c https://conda.anaconda.org/plotly plotly"
   ]
  },
  {
   "cell_type": "code",
   "execution_count": 3,
   "metadata": {},
   "outputs": [
    {
     "name": "stdout",
     "output_type": "stream",
     "text": [
      "Collecting dabl\n",
      "  Downloading dabl-0.2.0-py3-none-any.whl (558 kB)\n",
      "Requirement already satisfied: scipy in c:\\users\\sony\\anaconda3\\lib\\site-packages (from dabl) (1.4.1)\n",
      "Collecting scikit-learn>=0.24.0\n",
      "  Downloading scikit_learn-0.24.1-cp37-cp37m-win_amd64.whl (6.8 MB)\n",
      "Requirement already satisfied: seaborn in c:\\users\\sony\\anaconda3\\lib\\site-packages (from dabl) (0.10.0)\n",
      "Requirement already satisfied: matplotlib in c:\\users\\sony\\anaconda3\\lib\\site-packages (from dabl) (3.1.3)\n",
      "Requirement already satisfied: numpy in c:\\users\\sony\\anaconda3\\lib\\site-packages (from dabl) (1.18.1)\n",
      "Requirement already satisfied: pandas in c:\\users\\sony\\appdata\\roaming\\python\\python37\\site-packages (from dabl) (1.1.2)\n",
      "Requirement already satisfied: joblib>=0.11 in c:\\users\\sony\\anaconda3\\lib\\site-packages (from scikit-learn>=0.24.0->dabl) (0.14.1)\n",
      "Collecting threadpoolctl>=2.0.0\n",
      "  Downloading threadpoolctl-2.1.0-py3-none-any.whl (12 kB)\n",
      "Requirement already satisfied: kiwisolver>=1.0.1 in c:\\users\\sony\\anaconda3\\lib\\site-packages (from matplotlib->dabl) (1.1.0)\n",
      "Requirement already satisfied: pyparsing!=2.0.4,!=2.1.2,!=2.1.6,>=2.0.1 in c:\\users\\sony\\anaconda3\\lib\\site-packages (from matplotlib->dabl) (2.4.6)\n",
      "Requirement already satisfied: cycler>=0.10 in c:\\users\\sony\\anaconda3\\lib\\site-packages (from matplotlib->dabl) (0.10.0)\n",
      "Requirement already satisfied: python-dateutil>=2.1 in c:\\users\\sony\\anaconda3\\lib\\site-packages (from matplotlib->dabl) (2.8.1)\n",
      "Requirement already satisfied: six in c:\\users\\sony\\anaconda3\\lib\\site-packages (from cycler>=0.10->matplotlib->dabl) (1.14.0)\n",
      "Requirement already satisfied: setuptools in c:\\users\\sony\\anaconda3\\lib\\site-packages (from kiwisolver>=1.0.1->matplotlib->dabl) (45.2.0.post20200210)\n",
      "Requirement already satisfied: pytz>=2017.2 in c:\\users\\sony\\anaconda3\\lib\\site-packages (from pandas->dabl) (2019.3)\n",
      "Installing collected packages: threadpoolctl, scikit-learn, dabl\n",
      "  Attempting uninstall: scikit-learn\n",
      "    Found existing installation: scikit-learn 0.22.1\n",
      "    Uninstalling scikit-learn-0.22.1:\n",
      "      Successfully uninstalled scikit-learn-0.22.1\n",
      "Successfully installed dabl-0.2.0 scikit-learn-0.24.1 threadpoolctl-2.1.0\n",
      "Note: you may need to restart the kernel to use updated packages.\n"
     ]
    }
   ],
   "source": [
    "pip install dabl"
   ]
  },
  {
   "cell_type": "code",
   "execution_count": 4,
   "metadata": {},
   "outputs": [],
   "source": [
    "# for some basic operations\n",
    "import numpy as np\n",
    "import pandas as pd\n",
    "\n",
    "# for visualizations\n",
    "import matplotlib.pyplot as plt\n",
    "import seaborn as sns\n",
    "import plotly.express as px\n",
    "import dabl"
   ]
  },
  {
   "cell_type": "code",
   "execution_count": null,
   "metadata": {},
   "outputs": [],
   "source": []
  }
 ],
 "metadata": {
  "kernelspec": {
   "display_name": "Python 3",
   "language": "python",
   "name": "python3"
  },
  "language_info": {
   "codemirror_mode": {
    "name": "ipython",
    "version": 3
   },
   "file_extension": ".py",
   "mimetype": "text/x-python",
   "name": "python",
   "nbconvert_exporter": "python",
   "pygments_lexer": "ipython3",
   "version": "3.7.6"
  }
 },
 "nbformat": 4,
 "nbformat_minor": 4
}
