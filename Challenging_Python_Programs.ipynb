{
 "cells": [
  {
   "cell_type": "markdown",
   "metadata": {
    "id": "RCOisKIRLDRH"
   },
   "source": [
    "# ***A collection of some challenging python programs with solutions.***"
   ]
  },
  {
   "cell_type": "markdown",
   "metadata": {
    "id": "yIM6gCz6LRnr"
   },
   "source": [
    "## ***Question 1***  \n",
    "Write a programs which will find all such numbers which are divisible by 7 but are not a multiple of 5, between 2000 and 3000 (both included).  \n",
    "The numbers obtained should be printed in a comma-separated sequence on a single line.  \n",
    "   \n",
    "**Hints** Consider use range(begin, end) method"
   ]
  },
  {
   "cell_type": "code",
   "execution_count": 1,
   "metadata": {
    "colab": {
     "base_uri": "https://localhost:8080/"
    },
    "id": "BFF4wtpsYxji",
    "outputId": "5ff1100d-7d27-401d-fafb-8a136f7a08df"
   },
   "outputs": [
    {
     "name": "stdout",
     "output_type": "stream",
     "text": [
      "2002,2009,2016,2023,2037,2044,2051,2058,2072,2079,2086,2093,2107,2114,2121,2128,2142,2149,2156,2163,2177,2184,2191,2198,2212,2219,2226,2233,2247,2254,2261,2268,2282,2289,2296,2303,2317,2324,2331,2338,2352,2359,2366,2373,2387,2394,2401,2408,2422,2429,2436,2443,2457,2464,2471,2478,2492,2499,2506,2513,2527,2534,2541,2548,2562,2569,2576,2583,2597,2604,2611,2618,2632,2639,2646,2653,2667,2674,2681,2688,2702,2709,2716,2723,2737,2744,2751,2758,2772,2779,2786,2793,2807,2814,2821,2828,2842,2849,2856,2863,2877,2884,2891,2898,2912,2919,2926,2933,2947,2954,2961,2968,2982,2989,2996\n"
     ]
    }
   ],
   "source": [
    "a = []\n",
    "for i in range(2000, 3001):\n",
    "  if (i%7==0) and (i%5!=0):\n",
    "    a.append(str(i))\n",
    "\n",
    "print(\",\".join(a))"
   ]
  },
  {
   "cell_type": "markdown",
   "metadata": {
    "id": "MSGFLt4mMrNB"
   },
   "source": [
    "## ***Question 2***  \n",
    "Write a program which can be compute the factorial of a given numbers.  \n",
    "The results should be printed in a comma-separated sequence on a single line.  \n",
    "Suppose the following input is supplied to the program: 8  \n",
    "Then, the output should be: 40320"
   ]
  },
  {
   "cell_type": "code",
   "execution_count": 2,
   "metadata": {
    "colab": {
     "base_uri": "https://localhost:8080/"
    },
    "id": "wVXSqjbHMbsy",
    "outputId": "28c76352-7667-46df-f759-1ed8d133e8ab"
   },
   "outputs": [
    {
     "name": "stdout",
     "output_type": "stream",
     "text": [
      "Entrer Number10\n",
      "3628800\n"
     ]
    }
   ],
   "source": [
    "def fact(x):\n",
    "  if x==0:\n",
    "    return 1\n",
    "  return x*fact(x-1)\n",
    "\n",
    "x = int(input(\"Entrer Number\"))\n",
    "print(fact(x))"
   ]
  },
  {
   "cell_type": "markdown",
   "metadata": {
    "id": "AFOypoVIOaOW"
   },
   "source": [
    "## ***Question 3***  \n",
    "With a given integral number n, write a program to generate a dictionary that contains (i,i*i) such that is an integral number between 1 and n (both included). and then the program should print the dictionary.  \n",
    "Suppose the following input is supplied to the program:8  \n",
    "Then, the output should be:  \n",
    "{1:1, 2:4, 3:9, 4:16, ..., 8:64}  \n",
    "   \n",
    "**Hints**  \n",
    "In case of input data being supplied to the question, it should be assumed to be a console input.  \n",
    "consider use dict()"
   ]
  },
  {
   "cell_type": "code",
   "execution_count": 3,
   "metadata": {
    "colab": {
     "base_uri": "https://localhost:8080/"
    },
    "id": "5LcRN7ieOLZk",
    "outputId": "381ad81c-3499-4040-e2d4-9487efcece0d"
   },
   "outputs": [
    {
     "name": "stdout",
     "output_type": "stream",
     "text": [
      "4\n",
      "{1: 1, 2: 4, 3: 9, 4: 16}\n"
     ]
    }
   ],
   "source": [
    "n = int(input())\n",
    "a = dict()\n",
    "for i in range(1, n+1):\n",
    "  a[i]  =i*i\n",
    "\n",
    "print(a)"
   ]
  },
  {
   "cell_type": "markdown",
   "metadata": {
    "id": "FrHLnk1vSQQO"
   },
   "source": [
    "## ***Question 4***  \n",
    "Write a program which accepts a sequence of comma-separated numbers from console and generate a list and a tuple which contains every number.  \n",
    "Suppose the following input is supplied to the program:34, 67; 55; 33, 12, 98  \n",
    "Then, the output should be:  \n",
    "[’34’, ’67’, ’55’, ’33’, ’12’, ’98’]\n",
    "(’34’, ’67’, ’55’, ’33’, ’12’, ’98’)  \n",
    "  \n",
    "**Hints:**  \n",
    "In case of input data being supplied to the question, it should be assumed to be a console input.\n",
    "tuple() method can convert list to tuple."
   ]
  },
  {
   "cell_type": "code",
   "execution_count": 4,
   "metadata": {
    "colab": {
     "base_uri": "https://localhost:8080/"
    },
    "id": "seevzEAESL0c",
    "outputId": "19664d75-5c36-4ac5-adbc-2002575d44d9"
   },
   "outputs": [
    {
     "name": "stdout",
     "output_type": "stream",
     "text": [
      "Entrer values:10\n",
      "['10']\n",
      "('10',)\n"
     ]
    }
   ],
   "source": [
    "values = input(\"Entrer values:\")\n",
    "list1 = values.split(\",\")\n",
    "tup1 = tuple(list1)\n",
    "print(list1)\n",
    "print(tup1)"
   ]
  },
  {
   "cell_type": "markdown",
   "metadata": {
    "id": "l10d0XNzTyzV"
   },
   "source": [
    "## ***Question 5***:  \n",
    "Write a program that accepts a comma separated sequence of words as input and prints the words in a comma-separated sequence after sorting them alphabetically.\n",
    "Suppose the following input is supplied to the program:\n",
    "without,hello,bag,world\n",
    "Then, the output should be:\n",
    "bag,hello,without,world  \n",
    "  \n",
    "**Hints:**  \n",
    "In case of input data being supplied to the question, it should be assumed to be a console input"
   ]
  },
  {
   "cell_type": "code",
   "execution_count": 6,
   "metadata": {
    "colab": {
     "base_uri": "https://localhost:8080/"
    },
    "id": "b2C536J8TkKy",
    "outputId": "1628ae3f-340a-4d17-aeed-77d580ffe2db"
   },
   "outputs": [
    {
     "name": "stdout",
     "output_type": "stream",
     "text": [
      "Entrer words:balde,zobald,msbalde\n",
      "balde,msbalde,zobald\n"
     ]
    }
   ],
   "source": [
    "items = [x for x in input(\"Entrer words:\").split(\",\")]\n",
    "items.sort()\n",
    "print(\",\".join(items))"
   ]
  },
  {
   "cell_type": "markdown",
   "metadata": {
    "id": "CbDiylRzVVzj"
   },
   "source": [
    "## ***Question 6***  \n",
    "Write a program that accepts sequence of lines as input and prints the lines after making all characters in the sentence capitalized.\n",
    "Suppose the following input is supplied to the program:\n",
    "Hello world\n",
    "Practice makes perfect\n",
    "Then, the output should be:\n",
    "HELLO WORLD\n",
    "PRACTICE MAKES PERFECT  \n",
    "  \n",
    "**Hints:**  \n",
    "In case of input data being supplied to the question, it should be assumed to be a console input"
   ]
  },
  {
   "cell_type": "code",
   "execution_count": 7,
   "metadata": {
    "colab": {
     "base_uri": "https://localhost:8080/"
    },
    "id": "NueMR1_5Uc7E",
    "outputId": "3ff85124-574f-44ba-d9b3-f409f4163e1e"
   },
   "outputs": [
    {
     "name": "stdout",
     "output_type": "stream",
     "text": [
      "Entrer Lines:im,honest,\n",
      "Entrer Lines:you are\n",
      "Entrer Lines:\n",
      "IM,HONEST,\n",
      "YOU ARE\n"
     ]
    }
   ],
   "source": [
    "lines = []\n",
    "while True:\n",
    "  s = input(\"Entrer Lines:\")\n",
    "  if s:\n",
    "    lines.append(s.upper())\n",
    "  else:\n",
    "    break\n",
    "\n",
    "for sentence in lines:\n",
    "  print(sentence)\n",
    "# Leave input blank to stop\n"
   ]
  },
  {
   "cell_type": "markdown",
   "metadata": {
    "id": "LjtUfPd1WlGa"
   },
   "source": [
    "## ***Question 7***  \n",
    "Write a program, which will find all such numbers between 1000 and 3000 (both included) such that each digit of the number is an even number.\n",
    "The numbers obtained should be printed in a comma-separated sequence on a single line.  \n",
    "  \n",
    "**Hints:**  \n",
    "In case of input data being supplied to the question, it should be assumed to be a console input.  \n"
   ]
  },
  {
   "cell_type": "code",
   "execution_count": 8,
   "metadata": {
    "colab": {
     "base_uri": "https://localhost:8080/"
    },
    "id": "TG4L5j48WJgp",
    "outputId": "c2fa82f5-2358-4cd8-f85c-8d8641959bde"
   },
   "outputs": [
    {
     "name": "stdout",
     "output_type": "stream",
     "text": [
      "2000,2002,2004,2006,2008,2020,2022,2024,2026,2028,2040,2042,2044,2046,2048,2060,2062,2064,2066,2068,2080,2082,2084,2086,2088,2200,2202,2204,2206,2208,2220,2222,2224,2226,2228,2240,2242,2244,2246,2248,2260,2262,2264,2266,2268,2280,2282,2284,2286,2288,2400,2402,2404,2406,2408,2420,2422,2424,2426,2428,2440,2442,2444,2446,2448,2460,2462,2464,2466,2468,2480,2482,2484,2486,2488,2600,2602,2604,2606,2608,2620,2622,2624,2626,2628,2640,2642,2644,2646,2648,2660,2662,2664,2666,2668,2680,2682,2684,2686,2688,2800,2802,2804,2806,2808,2820,2822,2824,2826,2828,2840,2842,2844,2846,2848,2860,2862,2864,2866,2868,2880,2882,2884,2886,2888\n"
     ]
    }
   ],
   "source": [
    "values = []\n",
    "for i in range(1000, 3001):\n",
    "  s = str(i)\n",
    "  if (int(s[0])%2==0) and (int(s[1])%2==0) and (int(s[2])%2==0) and (int(s[3])%2==0):\n",
    "    values.append(s)\n",
    "\n",
    "print(\",\".join(values))"
   ]
  },
  {
   "cell_type": "markdown",
   "metadata": {
    "id": "xNt_8vo5we46"
   },
   "source": [
    "## ***Question 8***  \n",
    "Write a program that accepts a sentence and calculate the nomber of letter and digits.  \n",
    "Suppose the following input is supplied to the program: hello world! 123  \n",
    "Then, the output should be: LETTERS 10  DIGITS 3  \n",
    "**Hints**  \n",
    "In case of input data being supplied to the question, it should be assumed to be a console input.  \n"
   ]
  },
  {
   "cell_type": "code",
   "execution_count": 1,
   "metadata": {
    "colab": {
     "base_uri": "https://localhost:8080/"
    },
    "id": "8usl88QSXgrN",
    "outputId": "13138106-34bc-4acb-db2c-e793c8896074"
   },
   "outputs": [
    {
     "name": "stdout",
     "output_type": "stream",
     "text": [
      "Enter a Sentence with Digits:did'nt get a intership\n",
      "LETTERS 18\n",
      "DIGITS 0\n"
     ]
    }
   ],
   "source": [
    "s = input(\"Enter a Sentence with Digits:\")\n",
    "d = {\"DIGITS\":0, \"LETTERS\":0}\n",
    "for c in s:\n",
    "  if c.isdigit():\n",
    "    d[\"DIGITS\"]+=1\n",
    "  elif c.isalpha():\n",
    "    d[\"LETTERS\"]+=1\n",
    "  else:\n",
    "    pass\n",
    "print(\"LETTERS\", d[\"LETTERS\"])\n",
    "print(\"DIGITS\", d[\"DIGITS\"])"
   ]
  },
  {
   "cell_type": "markdown",
   "metadata": {
    "id": "mv83OCQ0yeWs"
   },
   "source": [
    "## ***Question 9***  \n",
    "Write a program that accepts a sentence and calculate the number of upper case letters and lower case letters.  \n",
    "Suppose the following input is supplied to the program: Hello world!  \n",
    "Then, the output should be: UPPER CASE 1 LOWER CASE 9  \n",
    "**Hints:**  \n",
    "In case of input data being supplied to the question, it should be assumed to be a console input"
   ]
  },
  {
   "cell_type": "code",
   "execution_count": 1,
   "metadata": {
    "colab": {
     "base_uri": "https://localhost:8080/"
    },
    "id": "q9KnmevbyEf1",
    "outputId": "2916e48e-934d-4453-a04a-7916adf54ffc"
   },
   "outputs": [
    {
     "name": "stdout",
     "output_type": "stream",
     "text": [
      "Enter a Sentence:Hii i want to becom a Data Scientist \n",
      "UPPER CASE 3\n",
      "LOWER CASE 26\n"
     ]
    }
   ],
   "source": [
    "s = input(\"Enter a Sentence:\")\n",
    "d = {\"UPPER CASE\":0, \"LOWER CASE\":0}\n",
    "for c in s:\n",
    "  if c.isupper():\n",
    "    d[\"UPPER CASE\"] += 1\n",
    "  elif c.islower():\n",
    "    d[\"LOWER CASE\"] += 1\n",
    "  else:\n",
    "    pass\n",
    "\n",
    "print(\"UPPER CASE\", d[\"UPPER CASE\"])\n",
    "print(\"LOWER CASE\", d[\"LOWER CASE\"])"
   ]
  },
  {
   "cell_type": "markdown",
   "metadata": {
    "id": "PGRr8YBRa2cB"
   },
   "source": [
    "## ***Question 10***  \n",
    "Write a python program to create a guessing game.  \n",
    "**Hints**  \n",
    "Use random module"
   ]
  },
  {
   "cell_type": "code",
   "execution_count": 2,
   "metadata": {
    "colab": {
     "base_uri": "https://localhost:8080/"
    },
    "id": "DDDJRU-HahSL",
    "outputId": "ae3e1c4e-44ea-447b-8992-53c1128cd974"
   },
   "outputs": [
    {
     "name": "stdout",
     "output_type": "stream",
     "text": [
      "Enter any number:10\n",
      "number is less than 10\n",
      "Enter number again:20\n",
      "number is less than 20\n",
      "Enter number again:100\n",
      "number is less than 100\n",
      "Enter number again:1000\n",
      "number is less than 1000\n",
      "Enter number again:100000000000000\n",
      "number is less than 100000000000000\n",
      "Enter number again:1\n",
      "number is more than 1\n",
      "Enter number again:2\n",
      "number is more than 2\n",
      "Enter number again:3\n",
      "number is more than 3\n",
      "Enter number again:5\n",
      "you guessed it right!!\n"
     ]
    }
   ],
   "source": [
    "import random\n",
    "# to create a range of random numbers between 1-10\n",
    "n = random.randrange(1,10)\n",
    "\n",
    "# To take a user input to enter a number\n",
    "guess = int(input(\"Enter any number:\"))\n",
    "\n",
    "while n!=guess:  # means if n is not equal to the input guess\n",
    "  # if guess is smaller than n\n",
    "  if guess < n:\n",
    "    print(\"number is more than\", guess)\n",
    "    # to again ask for input\n",
    "    guess = int(input(\"Enter number again:\"))\n",
    "  # if guess is greater than n\n",
    "  elif guess > n:\n",
    "    print(\"number is less than\", guess)\n",
    "    # to again ask for the user input\n",
    "    guess = int(input(\"Enter number again:\"))\n",
    "  # if guess gets equals to n terminate the while loop\n",
    "  else:\n",
    "    break\n",
    "print(\"you guessed it right!!\")"
   ]
  },
  {
   "cell_type": "code",
   "execution_count": null,
   "metadata": {
    "id": "jymCYnJ3cxC0"
   },
   "outputs": [],
   "source": []
  }
 ],
 "metadata": {
  "accelerator": "GPU",
  "colab": {
   "collapsed_sections": [],
   "name": "Challenging_Python_Programs.ipynb",
   "provenance": []
  },
  "kernelspec": {
   "display_name": "Python 3",
   "language": "python",
   "name": "python3"
  },
  "language_info": {
   "codemirror_mode": {
    "name": "ipython",
    "version": 3
   },
   "file_extension": ".py",
   "mimetype": "text/x-python",
   "name": "python",
   "nbconvert_exporter": "python",
   "pygments_lexer": "ipython3",
   "version": "3.7.6"
  }
 },
 "nbformat": 4,
 "nbformat_minor": 1
}
