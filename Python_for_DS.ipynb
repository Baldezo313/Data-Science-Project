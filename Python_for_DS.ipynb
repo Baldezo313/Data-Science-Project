{
 "cells": [
  {
   "cell_type": "markdown",
   "metadata": {},
   "source": [
    "# Python pour la Data Science"
   ]
  },
  {
   "cell_type": "markdown",
   "metadata": {},
   "source": [
    "## I.°) Importance de la data science"
   ]
  },
  {
   "cell_type": "markdown",
   "metadata": {},
   "source": [
    "**DATA Science, c'est quoi dèja**  \n",
    "*Science de données*: Il s'agit d'une domaine interdisciplinaire consistant à explorer des données, extraire des connaissances pour resoudre des problèmes et d'améliorer la performance.  \n",
    "**Quelques applications**: La data science est utilisée dans de nombreuse domaines:  \n",
    "* Détection de spam  \n",
    "* Reconnaissance vocal/ faciale  \n",
    "* Prévision demande / Stock  \n",
    "* Identification de la clientèle cible et de ses besoins  \n",
    "* Diagnostic médical  \n",
    "\n"
   ]
  },
  {
   "cell_type": "markdown",
   "metadata": {},
   "source": [
    "**Compétences requises**  \n",
    "* Langages de programmation: Python, R  \n",
    "* Extraction et prétraitement de données  \n",
    "* Statistiques et Mathématiques appliquées  \n",
    "* Analyse de données et machine learning  \n",
    "* Plateforme big data: Hadoop, Spark (plus)"
   ]
  },
  {
   "cell_type": "code",
   "execution_count": null,
   "metadata": {},
   "outputs": [],
   "source": []
  },
  {
   "cell_type": "markdown",
   "metadata": {},
   "source": [
    "**Listes**"
   ]
  },
  {
   "cell_type": "code",
   "execution_count": 6,
   "metadata": {},
   "outputs": [
    {
     "data": {
      "text/plain": [
       "['a', 'b', 'c', 'd']"
      ]
     },
     "execution_count": 6,
     "metadata": {},
     "output_type": "execute_result"
    }
   ],
   "source": [
    "# creation d'une liste\n",
    "maliste = ['a','b','c','d']\n",
    "maliste"
   ]
  },
  {
   "cell_type": "code",
   "execution_count": 7,
   "metadata": {},
   "outputs": [
    {
     "data": {
      "text/plain": [
       "'a'"
      ]
     },
     "execution_count": 7,
     "metadata": {},
     "output_type": "execute_result"
    }
   ],
   "source": [
    "# extraire un élement d'un liste\n",
    "maliste[0]"
   ]
  },
  {
   "cell_type": "code",
   "execution_count": 26,
   "metadata": {},
   "outputs": [
    {
     "data": {
      "text/plain": [
       "['a', 3, 2, 5]"
      ]
     },
     "execution_count": 26,
     "metadata": {},
     "output_type": "execute_result"
    }
   ],
   "source": [
    "# combiner des numeriques et chaine de caractère\n",
    "maliste1 = ['a', 3,2,5]\n",
    "maliste1"
   ]
  },
  {
   "cell_type": "code",
   "execution_count": 27,
   "metadata": {},
   "outputs": [
    {
     "data": {
      "text/plain": [
       "str"
      ]
     },
     "execution_count": 27,
     "metadata": {},
     "output_type": "execute_result"
    }
   ],
   "source": [
    "# Pour savoir le type d'un element\n",
    "type(maliste1[0])"
   ]
  },
  {
   "cell_type": "code",
   "execution_count": 28,
   "metadata": {},
   "outputs": [
    {
     "data": {
      "text/plain": [
       "4"
      ]
     },
     "execution_count": 28,
     "metadata": {},
     "output_type": "execute_result"
    }
   ],
   "source": [
    "# la longueur d'un liste\n",
    "len(maliste1)"
   ]
  },
  {
   "cell_type": "code",
   "execution_count": 29,
   "metadata": {},
   "outputs": [],
   "source": [
    "# pour ajouter un element dans un liste\n",
    "maliste1.append(12)"
   ]
  },
  {
   "cell_type": "code",
   "execution_count": 30,
   "metadata": {},
   "outputs": [
    {
     "data": {
      "text/plain": [
       "['a', 3, 5]"
      ]
     },
     "execution_count": 30,
     "metadata": {},
     "output_type": "execute_result"
    }
   ],
   "source": [
    "# Pour supprimer l'element d'un liste\n",
    "del maliste1[2]           # par l'indice\n",
    "maliste1.remove(12)          # par la valeur\n",
    "maliste1"
   ]
  },
  {
   "cell_type": "code",
   "execution_count": 31,
   "metadata": {},
   "outputs": [
    {
     "data": {
      "text/plain": [
       "['a', 3, 5, 12, 3, 'a', 3]"
      ]
     },
     "execution_count": 31,
     "metadata": {},
     "output_type": "execute_result"
    }
   ],
   "source": [
    "#concatenation\n",
    "maliste1.extend([12,3,'a',3])\n",
    "maliste1"
   ]
  },
  {
   "cell_type": "code",
   "execution_count": 32,
   "metadata": {},
   "outputs": [
    {
     "data": {
      "text/plain": [
       "['a', 3, 5, 12, 3, 'a', 3, [12, 3, 'a', 3]]"
      ]
     },
     "execution_count": 32,
     "metadata": {},
     "output_type": "execute_result"
    }
   ],
   "source": [
    "# alors que avec append c'est different\n",
    "maliste1.append([12,3,'a',3])\n",
    "maliste1"
   ]
  },
  {
   "cell_type": "code",
   "execution_count": 33,
   "metadata": {},
   "outputs": [],
   "source": [
    "maliste2 = ['a', 3,12,3,'a',3]\n"
   ]
  },
  {
   "cell_type": "code",
   "execution_count": 34,
   "metadata": {},
   "outputs": [
    {
     "data": {
      "text/plain": [
       "2"
      ]
     },
     "execution_count": 34,
     "metadata": {},
     "output_type": "execute_result"
    }
   ],
   "source": [
    "# compter le nombre de valeurs dans un liste\n",
    "maliste2.count('a')"
   ]
  },
  {
   "cell_type": "code",
   "execution_count": 35,
   "metadata": {},
   "outputs": [
    {
     "data": {
      "text/plain": [
       "0"
      ]
     },
     "execution_count": 35,
     "metadata": {},
     "output_type": "execute_result"
    }
   ],
   "source": [
    "# recuprer l'indice d'un element \n",
    "maliste2.index(\"a\")"
   ]
  },
  {
   "cell_type": "code",
   "execution_count": 36,
   "metadata": {},
   "outputs": [
    {
     "data": {
      "text/plain": [
       "[3, 'a', 3, 12, 3, 'a']"
      ]
     },
     "execution_count": 36,
     "metadata": {},
     "output_type": "execute_result"
    }
   ],
   "source": [
    "# Pour inverser un liste\n",
    "maliste2.reverse()\n",
    "maliste2"
   ]
  },
  {
   "cell_type": "code",
   "execution_count": 38,
   "metadata": {},
   "outputs": [
    {
     "data": {
      "text/plain": [
       "[3, 'a', 3, 12, 3, 'a', 4, 2]"
      ]
     },
     "execution_count": 38,
     "metadata": {},
     "output_type": "execute_result"
    }
   ],
   "source": [
    "# concatené deux liste\n",
    "maliste22 = [4,2]\n",
    "malist = maliste2 + maliste22\n",
    "malist"
   ]
  },
  {
   "cell_type": "code",
   "execution_count": 39,
   "metadata": {},
   "outputs": [],
   "source": [
    "# insert un element a n'import quel position dans un liste\n",
    "malist.insert(2,'b')"
   ]
  },
  {
   "cell_type": "code",
   "execution_count": 40,
   "metadata": {},
   "outputs": [],
   "source": [
    "# trier une liste\n",
    "maliste3 = [1,6,5,3,10]\n",
    "\n",
    "maliste3.sort()\n"
   ]
  },
  {
   "cell_type": "code",
   "execution_count": 41,
   "metadata": {},
   "outputs": [
    {
     "data": {
      "text/plain": [
       "[1, 3, 5, 6, 10]"
      ]
     },
     "execution_count": 41,
     "metadata": {},
     "output_type": "execute_result"
    }
   ],
   "source": [
    "# Pour afficher directement les element apres trie\n",
    "sorted(maliste3)"
   ]
  },
  {
   "cell_type": "code",
   "execution_count": 42,
   "metadata": {},
   "outputs": [
    {
     "data": {
      "text/plain": [
       "[10, 6, 5, 3, 1]"
      ]
     },
     "execution_count": 42,
     "metadata": {},
     "output_type": "execute_result"
    }
   ],
   "source": [
    "# trie decroissante\n",
    "sorted(maliste3, reverse=True)"
   ]
  },
  {
   "cell_type": "code",
   "execution_count": 43,
   "metadata": {},
   "outputs": [
    {
     "data": {
      "text/plain": [
       "[5, 6, 10]"
      ]
     },
     "execution_count": 43,
     "metadata": {},
     "output_type": "execute_result"
    }
   ],
   "source": [
    "# Extraire une sous liste\n",
    "maliste33  = maliste3[2:]\n",
    "maliste33"
   ]
  },
  {
   "cell_type": "code",
   "execution_count": 45,
   "metadata": {},
   "outputs": [
    {
     "data": {
      "text/plain": [
       "[5, 6]"
      ]
     },
     "execution_count": 45,
     "metadata": {},
     "output_type": "execute_result"
    }
   ],
   "source": [
    "# une sous liste entre indice\n",
    "maliste333 =maliste3[2:4] \n",
    "maliste333"
   ]
  },
  {
   "cell_type": "code",
   "execution_count": 46,
   "metadata": {},
   "outputs": [
    {
     "data": {
      "text/plain": [
       "6"
      ]
     },
     "execution_count": 46,
     "metadata": {},
     "output_type": "execute_result"
    }
   ],
   "source": [
    "# Extraire un element en commençant par la fin\n",
    "maliste3[-2]"
   ]
  },
  {
   "cell_type": "code",
   "execution_count": 47,
   "metadata": {},
   "outputs": [
    {
     "name": "stdout",
     "output_type": "stream",
     "text": [
      "1\n",
      "3\n",
      "5\n",
      "6\n",
      "10\n"
     ]
    }
   ],
   "source": [
    "# comment boucler sur une liste\n",
    "for element in maliste3:\n",
    "    print(element)"
   ]
  },
  {
   "cell_type": "code",
   "execution_count": 48,
   "metadata": {},
   "outputs": [
    {
     "name": "stdout",
     "output_type": "stream",
     "text": [
      "(0, 1)\n",
      "(1, 3)\n",
      "(2, 5)\n",
      "(3, 6)\n",
      "(4, 10)\n"
     ]
    }
   ],
   "source": [
    "# Si on veut recuperer l'indice\n",
    "for element in enumerate (maliste3):\n",
    "    print(element)"
   ]
  },
  {
   "cell_type": "code",
   "execution_count": 50,
   "metadata": {},
   "outputs": [
    {
     "name": "stdout",
     "output_type": "stream",
     "text": [
      "(0, 10)\n",
      "(1, 15)\n",
      "(2, 20)\n",
      "(3, 25)\n",
      "(4, 30)\n",
      "(5, 35)\n"
     ]
    }
   ],
   "source": [
    "# range: permet de generer une liste compose uniqueemnt d'element arithmetique\n",
    "y = range(10,40,5)\n",
    "for element in enumerate(y):\n",
    "    print(element)"
   ]
  },
  {
   "cell_type": "code",
   "execution_count": 51,
   "metadata": {},
   "outputs": [
    {
     "data": {
      "text/plain": [
       "['Rabat', 'Casablanca', '50.9']"
      ]
     },
     "execution_count": 51,
     "metadata": {},
     "output_type": "execute_result"
    }
   ],
   "source": [
    "# Transformer une chaine de caractere en liste\n",
    "machaine = 'Rabat:Casablanca:50.9'\n",
    "malistech = machaine.split(\":\")\n",
    "malistech"
   ]
  },
  {
   "cell_type": "code",
   "execution_count": 52,
   "metadata": {},
   "outputs": [
    {
     "data": {
      "text/plain": [
       "[1, 3, 5.0, 6, 10]"
      ]
     },
     "execution_count": 52,
     "metadata": {},
     "output_type": "execute_result"
    }
   ],
   "source": [
    "# Pour mieux faire des calculs on transforme les elements en float\n",
    "maliste3[2]= float(maliste3[2])\n",
    "maliste3"
   ]
  },
  {
   "cell_type": "markdown",
   "metadata": {},
   "source": [
    "**Les Dictionnaires**"
   ]
  },
  {
   "cell_type": "code",
   "execution_count": 53,
   "metadata": {},
   "outputs": [
    {
     "data": {
      "text/plain": [
       "{'Benatia': 'Juventus', 'Messi': 'Barçalona', 'Pogba': 'ManU'}"
      ]
     },
     "execution_count": 53,
     "metadata": {},
     "output_type": "execute_result"
    }
   ],
   "source": [
    "# Exemple\n",
    "equipe = {\"Benatia\":\"Juventus\", \"Messi\":\"Barçalona\", \"Pogba\": \"ManU\"}\n",
    "equipe"
   ]
  },
  {
   "cell_type": "code",
   "execution_count": 54,
   "metadata": {},
   "outputs": [
    {
     "data": {
      "text/plain": [
       "'Juventus'"
      ]
     },
     "execution_count": 54,
     "metadata": {},
     "output_type": "execute_result"
    }
   ],
   "source": [
    "# indexation ou accede à l'element\n",
    "equipe['Benatia']"
   ]
  },
  {
   "cell_type": "code",
   "execution_count": 55,
   "metadata": {},
   "outputs": [
    {
     "data": {
      "text/plain": [
       "{'Benatia': 'Juventus',\n",
       " 'Messi': 'Barçalona',\n",
       " 'Pogba': 'ManU',\n",
       " 'Hasard': 'Chelsea'}"
      ]
     },
     "execution_count": 55,
     "metadata": {},
     "output_type": "execute_result"
    }
   ],
   "source": [
    "# rajouter des elements dans un dictionnaire\n",
    "equipe[\"Hasard\"] = \"Chelsea\"\n",
    "equipe"
   ]
  },
  {
   "cell_type": "code",
   "execution_count": 56,
   "metadata": {},
   "outputs": [
    {
     "data": {
      "text/plain": [
       "'ManU'"
      ]
     },
     "execution_count": 56,
     "metadata": {},
     "output_type": "execute_result"
    }
   ],
   "source": [
    "# obtenir un ou pluisieurs elemnts dans un dictionnaire\n",
    "equipe.get(\"Pogba\")"
   ]
  },
  {
   "cell_type": "code",
   "execution_count": 57,
   "metadata": {},
   "outputs": [
    {
     "data": {
      "text/plain": [
       "'Inconnue'"
      ]
     },
     "execution_count": 57,
     "metadata": {},
     "output_type": "execute_result"
    }
   ],
   "source": [
    "equipe.get(\"Ibra\", \"Inconnue\")"
   ]
  },
  {
   "cell_type": "code",
   "execution_count": 58,
   "metadata": {},
   "outputs": [
    {
     "data": {
      "text/plain": [
       "False"
      ]
     },
     "execution_count": 58,
     "metadata": {},
     "output_type": "execute_result"
    }
   ],
   "source": [
    "# Verifier si un element existe dans un dicionnaire\n",
    "'Cristiano' in equipe"
   ]
  },
  {
   "cell_type": "code",
   "execution_count": 59,
   "metadata": {},
   "outputs": [
    {
     "data": {
      "text/plain": [
       "True"
      ]
     },
     "execution_count": 59,
     "metadata": {},
     "output_type": "execute_result"
    }
   ],
   "source": [
    "'Hasard' in equipe"
   ]
  },
  {
   "cell_type": "code",
   "execution_count": 60,
   "metadata": {},
   "outputs": [
    {
     "data": {
      "text/plain": [
       "{'Benatia': 'Juventus', 'Pogba': 'ManU', 'Hasard': 'Chelsea'}"
      ]
     },
     "execution_count": 60,
     "metadata": {},
     "output_type": "execute_result"
    }
   ],
   "source": [
    "# Supprime un elemnt dans un dictionnaire\n",
    "del equipe['Messi']\n",
    "equipe"
   ]
  },
  {
   "cell_type": "code",
   "execution_count": 61,
   "metadata": {},
   "outputs": [
    {
     "name": "stdout",
     "output_type": "stream",
     "text": [
      "dict_keys(['Benatia', 'Pogba', 'Hasard'])\n"
     ]
    }
   ],
   "source": [
    "# keys renvoi la liste des cle utilise dans la dictionnaire\n",
    "print(equipe.keys())"
   ]
  },
  {
   "cell_type": "code",
   "execution_count": 63,
   "metadata": {},
   "outputs": [
    {
     "name": "stdout",
     "output_type": "stream",
     "text": [
      "dict_values(['Juventus', 'ManU', 'Chelsea'])\n"
     ]
    }
   ],
   "source": [
    "# values renvoie les valeurs des cles\n",
    "print(equipe.values())"
   ]
  },
  {
   "cell_type": "code",
   "execution_count": 64,
   "metadata": {},
   "outputs": [
    {
     "data": {
      "text/plain": [
       "dict_items([('Benatia', 'Juventus'), ('Pogba', 'ManU'), ('Hasard', 'Chelsea')])"
      ]
     },
     "execution_count": 64,
     "metadata": {},
     "output_type": "execute_result"
    }
   ],
   "source": [
    "# item permet d'extraire du dict une liste equivalence de cle et valeurs\n",
    "equipe.items()\n"
   ]
  },
  {
   "cell_type": "code",
   "execution_count": 65,
   "metadata": {},
   "outputs": [
    {
     "name": "stdout",
     "output_type": "stream",
     "text": [
      "le joueur Benatia joue dans l'equipe de  Juventus\n",
      "le joueur Pogba joue dans l'equipe de  ManU\n",
      "le joueur Hasard joue dans l'equipe de  Chelsea\n"
     ]
    }
   ],
   "source": [
    "# faire une boucle sur les cles et les valeurs\n",
    "for cle, valeur in equipe.items():\n",
    "    print(\"le joueur\", cle, \"joue dans l'equipe de \", valeur)"
   ]
  },
  {
   "cell_type": "code",
   "execution_count": 66,
   "metadata": {},
   "outputs": [],
   "source": [
    "# faire une concatenation\n",
    "equipe1 = {'Cristiano':'Juventus', 'Hasard':'Madrid'}\n",
    "\n",
    "equipe.update(equipe1)"
   ]
  },
  {
   "cell_type": "code",
   "execution_count": 68,
   "metadata": {},
   "outputs": [
    {
     "data": {
      "text/plain": [
       "{'Benatia': 'Juventus',\n",
       " 'Pogba': 'ManU',\n",
       " 'Hasard': 'Madrid',\n",
       " 'Cristiano': 'Juventus'}"
      ]
     },
     "execution_count": 68,
     "metadata": {},
     "output_type": "execute_result"
    }
   ],
   "source": [
    "equipe"
   ]
  },
  {
   "cell_type": "markdown",
   "metadata": {},
   "source": [
    "#### Comprehension des outils de python"
   ]
  },
  {
   "cell_type": "code",
   "execution_count": 69,
   "metadata": {},
   "outputs": [
    {
     "data": {
      "text/plain": [
       "[0, 2, 4, 6, 8, 10, 12, 14, 16, 18]"
      ]
     },
     "execution_count": 69,
     "metadata": {},
     "output_type": "execute_result"
    }
   ],
   "source": [
    "# Boucle pour obtenir une liste de chiffre paire \n",
    "liste = []\n",
    "liste=range(20)\n",
    "liste1=[]\n",
    "for x in liste:\n",
    "    if x % 2==0:\n",
    "        liste1.append(x)\n",
    "liste1"
   ]
  },
  {
   "cell_type": "code",
   "execution_count": 70,
   "metadata": {},
   "outputs": [
    {
     "data": {
      "text/plain": [
       "[0, 2, 4, 6, 8, 10, 12, 14, 16, 18]"
      ]
     },
     "execution_count": 70,
     "metadata": {},
     "output_type": "execute_result"
    }
   ],
   "source": [
    "# autre façon equivalente\n",
    "liste2 = [x for x in liste if x % 2==0]\n",
    "liste2"
   ]
  },
  {
   "cell_type": "code",
   "execution_count": 71,
   "metadata": {},
   "outputs": [
    {
     "data": {
      "text/plain": [
       "['0', '2', '4', '6', '8', '10', '12', '14', '16', '18']"
      ]
     },
     "execution_count": 71,
     "metadata": {},
     "output_type": "execute_result"
    }
   ],
   "source": [
    "# prenons l'exemple d'un entier en chaine de caratere\n",
    "listec =[str(x) for x in liste2]\n",
    "listec"
   ]
  },
  {
   "cell_type": "code",
   "execution_count": 72,
   "metadata": {},
   "outputs": [
    {
     "data": {
      "text/plain": [
       "{0: 0, 2: 4, 4: 8, 6: 12, 8: 16, 10: 20, 12: 24, 14: 28, 16: 32, 18: 36}"
      ]
     },
     "execution_count": 72,
     "metadata": {},
     "output_type": "execute_result"
    }
   ],
   "source": [
    "# prenon exemple un dictionnair qui nous permet d'\n",
    "n2_dict = {i: 2*i for i in range(20) if i % 2==0}\n",
    "n2_dict"
   ]
  },
  {
   "cell_type": "code",
   "execution_count": 73,
   "metadata": {},
   "outputs": [
    {
     "data": {
      "text/plain": [
       "{'Juventus': 'Benatia', 'Barçalona': 'Messi', 'ManU': 'Pogba'}"
      ]
     },
     "execution_count": 73,
     "metadata": {},
     "output_type": "execute_result"
    }
   ],
   "source": [
    "# Transposée un dictionnaire existance\n",
    "equipe = {\"Benatia\":\"Juventus\", \"Messi\":\"Barçalona\", \"Pogba\": \"ManU\"}\n",
    "equipe_joueur = {equipe[key]: key for key in equipe }\n",
    "equipe_joueur"
   ]
  },
  {
   "cell_type": "code",
   "execution_count": 74,
   "metadata": {},
   "outputs": [
    {
     "data": {
      "text/plain": [
       "[0, 2, 4, 6, 8, 10, 12, 14, 16, 18]"
      ]
     },
     "execution_count": 74,
     "metadata": {},
     "output_type": "execute_result"
    }
   ],
   "source": [
    "\n",
    "L = [i*2 for i in range(10)]\n",
    "L"
   ]
  },
  {
   "cell_type": "code",
   "execution_count": 75,
   "metadata": {},
   "outputs": [
    {
     "data": {
      "text/plain": [
       "<generator object <genexpr> at 0x000002326ED86848>"
      ]
     },
     "execution_count": 75,
     "metadata": {},
     "output_type": "execute_result"
    }
   ],
   "source": [
    "# utilisation des Generateurs(pas de calculs)\n",
    "g = (i*2 for i in range(10))\n",
    "g"
   ]
  },
  {
   "cell_type": "code",
   "execution_count": 76,
   "metadata": {},
   "outputs": [
    {
     "name": "stdout",
     "output_type": "stream",
     "text": [
      "90\n",
      "90\n"
     ]
    }
   ],
   "source": [
    "print(sum(L))\n",
    "print(sum(g))"
   ]
  },
  {
   "cell_type": "markdown",
   "metadata": {},
   "source": [
    "#### charger des fichiers Excel et csv"
   ]
  },
  {
   "cell_type": "code",
   "execution_count": 78,
   "metadata": {},
   "outputs": [],
   "source": [
    "import pandas as pd\n",
    "#e = pd.read_excel(\"exemple.xlsx\")"
   ]
  },
  {
   "cell_type": "code",
   "execution_count": 79,
   "metadata": {},
   "outputs": [
    {
     "data": {
      "text/plain": [
       "'C:\\\\Users\\\\Sony\\\\Desktop\\\\Mes_Docs\\\\DA_DS'"
      ]
     },
     "execution_count": 79,
     "metadata": {},
     "output_type": "execute_result"
    }
   ],
   "source": [
    "import os\n",
    "\n",
    "# obtenir le chemin de travail\n",
    "os.getcwd()\n",
    "\n",
    "# afficher tous les fichiers d'un repertoir\n",
    "os.listdir()\n",
    "\n",
    "#modifier le chemin du repertoire actuel\n",
    "os.chdir()"
   ]
  },
  {
   "cell_type": "code",
   "execution_count": null,
   "metadata": {},
   "outputs": [],
   "source": []
  }
 ],
 "metadata": {
  "kernelspec": {
   "display_name": "Python 3",
   "language": "python",
   "name": "python3"
  },
  "language_info": {
   "codemirror_mode": {
    "name": "ipython",
    "version": 3
   },
   "file_extension": ".py",
   "mimetype": "text/x-python",
   "name": "python",
   "nbconvert_exporter": "python",
   "pygments_lexer": "ipython3",
   "version": "3.7.6"
  }
 },
 "nbformat": 4,
 "nbformat_minor": 4
}
