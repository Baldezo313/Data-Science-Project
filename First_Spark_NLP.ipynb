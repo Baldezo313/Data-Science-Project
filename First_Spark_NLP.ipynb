{
  "nbformat": 4,
  "nbformat_minor": 0,
  "metadata": {
    "colab": {
      "name": "First_Spark_NLP.ipynb",
      "provenance": [],
      "collapsed_sections": []
    },
    "kernelspec": {
      "name": "python3",
      "display_name": "Python 3"
    },
    "language_info": {
      "name": "python"
    }
  },
  "cells": [
    {
      "cell_type": "code",
      "metadata": {
        "colab": {
          "base_uri": "https://localhost:8080/"
        },
        "id": "FkQ8h2HzhSXK",
        "outputId": "e3ea8762-4215-4a95-eba2-fa432df1172a"
      },
      "source": [
        "!wget http://setup.johnsnowlabs.com/colab.sh -O - | bash"
      ],
      "execution_count": 2,
      "outputs": [
        {
          "output_type": "stream",
          "text": [
            "--2021-04-04 20:13:55--  http://setup.johnsnowlabs.com/colab.sh\n",
            "Resolving setup.johnsnowlabs.com (setup.johnsnowlabs.com)... 51.158.130.26\n",
            "Connecting to setup.johnsnowlabs.com (setup.johnsnowlabs.com)|51.158.130.26|:80... connected.\n",
            "HTTP request sent, awaiting response... 302 Moved Temporarily\n",
            "Location: https://raw.githubusercontent.com/JohnSnowLabs/spark-nlp/master/scripts/colab_setup.sh [following]\n",
            "--2021-04-04 20:13:55--  https://raw.githubusercontent.com/JohnSnowLabs/spark-nlp/master/scripts/colab_setup.sh\n",
            "Resolving raw.githubusercontent.com (raw.githubusercontent.com)... 185.199.108.133, 185.199.109.133, 185.199.110.133, ...\n",
            "Connecting to raw.githubusercontent.com (raw.githubusercontent.com)|185.199.108.133|:443... connected.\n",
            "HTTP request sent, awaiting response... 200 OK\n",
            "Length: 1593 (1.6K) [text/plain]\n",
            "Saving to: ‘STDOUT’\n",
            "\n",
            "-                   100%[===================>]   1.56K  --.-KB/s    in 0s      \n",
            "\n",
            "2021-04-04 20:13:55 (21.7 MB/s) - written to stdout [1593/1593]\n",
            "\n",
            "setup Colab for PySpark 3.1.1 and Spark NLP 3.0.1\n",
            "\u001b[K     |████████████████████████████████| 212.3MB 73kB/s \n",
            "\u001b[K     |████████████████████████████████| 153kB 47.2MB/s \n",
            "\u001b[K     |████████████████████████████████| 204kB 20.9MB/s \n",
            "\u001b[?25h  Building wheel for pyspark (setup.py) ... \u001b[?25l\u001b[?25hdone\n",
            "--2021-04-04 20:15:35--  http://setup.johnsnowlabs.com/colab.sh\n",
            "Resolving setup.johnsnowlabs.com (setup.johnsnowlabs.com)... 51.158.130.26\n",
            "Connecting to setup.johnsnowlabs.com (setup.johnsnowlabs.com)|51.158.130.26|:80... connected.\n",
            "HTTP request sent, awaiting response... 302 Moved Temporarily\n",
            "Location: https://raw.githubusercontent.com/JohnSnowLabs/spark-nlp/master/scripts/colab_setup.sh [following]\n",
            "--2021-04-04 20:15:35--  https://raw.githubusercontent.com/JohnSnowLabs/spark-nlp/master/scripts/colab_setup.sh\n",
            "Resolving raw.githubusercontent.com (raw.githubusercontent.com)... 185.199.108.133, 185.199.109.133, 185.199.110.133, ...\n",
            "Connecting to raw.githubusercontent.com (raw.githubusercontent.com)|185.199.108.133|:443... connected.\n",
            "HTTP request sent, awaiting response... 200 OK\n",
            "Length: 1593 (1.6K) [text/plain]\n",
            "Saving to: ‘STDOUT’\n",
            "\n",
            "-                   100%[===================>]   1.56K  --.-KB/s    in 0s      \n",
            "\n",
            "2021-04-04 20:15:35 (34.7 MB/s) - written to stdout [1593/1593]\n",
            "\n",
            "setup Colab for PySpark 3.1.1 and Spark NLP 3.0.1\n"
          ],
          "name": "stdout"
        }
      ]
    },
    {
      "cell_type": "code",
      "metadata": {
        "id": "JLm0-rEphvGc"
      },
      "source": [
        ""
      ],
      "execution_count": 5,
      "outputs": []
    },
    {
      "cell_type": "code",
      "metadata": {
        "id": "DT1eK3JpfRw3"
      },
      "source": [
        "import sparknlp\n",
        "from sparknlp.base import *\n",
        "from sparknlp.annotator import *\n"
      ],
      "execution_count": 6,
      "outputs": []
    },
    {
      "cell_type": "code",
      "metadata": {
        "id": "Ky-PjZ_Lf6Rx"
      },
      "source": [
        "spark = sparknlp.start()"
      ],
      "execution_count": 7,
      "outputs": []
    },
    {
      "cell_type": "code",
      "metadata": {
        "id": "gy1udrpOjAzI"
      },
      "source": [
        "data = spark.createDataFrame([['Peter is a godo person living in Germny. Paula is also a good person. She lives in London.']]).toDF('text')"
      ],
      "execution_count": 8,
      "outputs": []
    },
    {
      "cell_type": "code",
      "metadata": {
        "colab": {
          "base_uri": "https://localhost:8080/"
        },
        "id": "u0hc6ccljm7M",
        "outputId": "53db317f-bf86-4519-8008-2b7e69371019"
      },
      "source": [
        "data.show(truncate=False)"
      ],
      "execution_count": 9,
      "outputs": [
        {
          "output_type": "stream",
          "text": [
            "+------------------------------------------------------------------------------------------+\n",
            "|text                                                                                      |\n",
            "+------------------------------------------------------------------------------------------+\n",
            "|Peter is a godo person living in Germny. Paula is also a good person. She lives in London.|\n",
            "+------------------------------------------------------------------------------------------+\n",
            "\n"
          ],
          "name": "stdout"
        }
      ]
    },
    {
      "cell_type": "code",
      "metadata": {
        "id": "h3Slgzj1jwWO"
      },
      "source": [
        "document = DocumentAssembler().setInputCol('text').setOutputCol('document').setCleanupMode('shrink')"
      ],
      "execution_count": 10,
      "outputs": []
    },
    {
      "cell_type": "code",
      "metadata": {
        "id": "-7Ye3Y9WkOYH"
      },
      "source": [
        "sentence = SentenceDetector().setInputCols('document').setOutputCol('sentence')"
      ],
      "execution_count": 12,
      "outputs": []
    },
    {
      "cell_type": "code",
      "metadata": {
        "colab": {
          "base_uri": "https://localhost:8080/"
        },
        "id": "d2IjTWNHkl_g",
        "outputId": "31024843-7f2e-4a46-b78b-48e16fa53098"
      },
      "source": [
        "sentence.setExplodeSentences(True)"
      ],
      "execution_count": 13,
      "outputs": [
        {
          "output_type": "execute_result",
          "data": {
            "text/plain": [
              "SentenceDetector_912b0b16f735"
            ]
          },
          "metadata": {
            "tags": []
          },
          "execution_count": 13
        }
      ]
    },
    {
      "cell_type": "code",
      "metadata": {
        "id": "WetQwVSgk7s9"
      },
      "source": [
        "tokenizer = Tokenizer().setInputCols('sentence').setOutputCol('token')"
      ],
      "execution_count": 16,
      "outputs": []
    },
    {
      "cell_type": "code",
      "metadata": {
        "colab": {
          "base_uri": "https://localhost:8080/"
        },
        "id": "2yeYOkZYlGX7",
        "outputId": "ca58d3cc-0349-403c-8670-61aaf0cea7f2"
      },
      "source": [
        "tokenizer.setExceptions(['e-mail']) "
      ],
      "execution_count": 17,
      "outputs": [
        {
          "output_type": "execute_result",
          "data": {
            "text/plain": [
              "Tokenizer_7111ed85f6ac"
            ]
          },
          "metadata": {
            "tags": []
          },
          "execution_count": 17
        }
      ]
    },
    {
      "cell_type": "code",
      "metadata": {
        "colab": {
          "base_uri": "https://localhost:8080/"
        },
        "id": "B5yq7aVQmEs5",
        "outputId": "2d1503b3-b606-4cc9-aaf5-f9d11390ec0a"
      },
      "source": [
        "checker = NorvigSweetingModel.pretrained().setInputCols(['token']).setOutputCol('checked')"
      ],
      "execution_count": 18,
      "outputs": [
        {
          "output_type": "stream",
          "text": [
            "spellcheck_norvig download started this may take some time.\n",
            "Approximate size to download 4.2 MB\n",
            "[OK!]\n"
          ],
          "name": "stdout"
        }
      ]
    },
    {
      "cell_type": "code",
      "metadata": {
        "colab": {
          "base_uri": "https://localhost:8080/"
        },
        "id": "8UDpF-ZcsbeK",
        "outputId": "5cab0730-b1c3-40d6-fafe-388dd5e4bda6"
      },
      "source": [
        "embeddings = WordEmbeddingsModel.pretrained().setInputCols(['sentence', 'token']).setOutputCol('embeddings')"
      ],
      "execution_count": 22,
      "outputs": [
        {
          "output_type": "stream",
          "text": [
            "glove_100d download started this may take some time.\n",
            "Approximate size to download 145.3 MB\n",
            "[OK!]\n"
          ],
          "name": "stdout"
        }
      ]
    },
    {
      "cell_type": "code",
      "metadata": {
        "colab": {
          "base_uri": "https://localhost:8080/"
        },
        "id": "fOs1OmK1meCU",
        "outputId": "71298bb9-b32d-4f80-9f16-dc5bbc07080a"
      },
      "source": [
        "ner = NerDLModel.pretrained().setInputCols(['sentence', 'checked', 'embeddings']).setOutputCol('ner')"
      ],
      "execution_count": 24,
      "outputs": [
        {
          "output_type": "stream",
          "text": [
            "ner_dl download started this may take some time.\n",
            "Approximate size to download 13.6 MB\n",
            "[OK!]\n"
          ],
          "name": "stdout"
        }
      ]
    },
    {
      "cell_type": "code",
      "metadata": {
        "id": "AAuD6_1tqgyU"
      },
      "source": [
        "converter = NerConverter().setInputCols(['sentence', 'checked', 'ner']).setOutputCol('chunk')"
      ],
      "execution_count": 25,
      "outputs": []
    },
    {
      "cell_type": "code",
      "metadata": {
        "id": "8w0EyxWorKOx"
      },
      "source": [
        "from pyspark.ml import Pipeline\n",
        "\n",
        "\n",
        "pipeline = Pipeline().setStages([document, sentence, tokenizer, checker,embeddings,  ner, converter])"
      ],
      "execution_count": 28,
      "outputs": []
    },
    {
      "cell_type": "code",
      "metadata": {
        "id": "_nlrDMtCr0P9"
      },
      "source": [
        "model = pipeline.fit(data)"
      ],
      "execution_count": 29,
      "outputs": []
    },
    {
      "cell_type": "code",
      "metadata": {
        "id": "1xiKFcndtrlM"
      },
      "source": [
        "result = model.transform(data)"
      ],
      "execution_count": 30,
      "outputs": []
    },
    {
      "cell_type": "code",
      "metadata": {
        "colab": {
          "base_uri": "https://localhost:8080/"
        },
        "id": "R_3xnmu5tvUa",
        "outputId": "ce388549-c1c1-47bf-8dbe-75e254d01418"
      },
      "source": [
        "result.show()"
      ],
      "execution_count": 32,
      "outputs": [
        {
          "output_type": "stream",
          "text": [
            "+--------------------+--------------------+--------------------+--------------------+--------------------+--------------------+--------------------+--------------------+\n",
            "|                text|            document|            sentence|               token|             checked|          embeddings|                 ner|               chunk|\n",
            "+--------------------+--------------------+--------------------+--------------------+--------------------+--------------------+--------------------+--------------------+\n",
            "|Peter is a godo p...|[{document, 0, 89...|[{document, 0, 39...|[{token, 0, 4, Pe...|[{token, 0, 4, Pe...|[{word_embeddings...|[{named_entity, 0...|[{chunk, 0, 4, Pe...|\n",
            "|Peter is a godo p...|[{document, 0, 89...|[{document, 41, 6...|[{token, 41, 45, ...|[{token, 41, 45, ...|[{word_embeddings...|[{named_entity, 4...|[{chunk, 41, 45, ...|\n",
            "|Peter is a godo p...|[{document, 0, 89...|[{document, 70, 8...|[{token, 70, 72, ...|[{token, 70, 72, ...|[{word_embeddings...|[{named_entity, 7...|[{chunk, 83, 88, ...|\n",
            "+--------------------+--------------------+--------------------+--------------------+--------------------+--------------------+--------------------+--------------------+\n",
            "\n"
          ],
          "name": "stdout"
        }
      ]
    },
    {
      "cell_type": "code",
      "metadata": {
        "colab": {
          "base_uri": "https://localhost:8080/"
        },
        "id": "Y6VC2-kJt0-O",
        "outputId": "980d5fb0-41ef-4eac-a488-752658522d45"
      },
      "source": [
        "result.select('sentence.result').show(truncate=False)"
      ],
      "execution_count": 33,
      "outputs": [
        {
          "output_type": "stream",
          "text": [
            "+------------------------------------------+\n",
            "|result                                    |\n",
            "+------------------------------------------+\n",
            "|[Peter is a godo person living in Germny.]|\n",
            "|[Paula is also a good person.]            |\n",
            "|[She lives in London.]                    |\n",
            "+------------------------------------------+\n",
            "\n"
          ],
          "name": "stdout"
        }
      ]
    },
    {
      "cell_type": "code",
      "metadata": {
        "colab": {
          "base_uri": "https://localhost:8080/"
        },
        "id": "YK0V5A0Mu_3d",
        "outputId": "597d4672-6d0e-40b1-e290-42572762c1bc"
      },
      "source": [
        "result.select('checked.result').show(truncate=False)"
      ],
      "execution_count": 34,
      "outputs": [
        {
          "output_type": "stream",
          "text": [
            "+---------------------------------------------------+\n",
            "|result                                             |\n",
            "+---------------------------------------------------+\n",
            "|[Peter, is, a, god, person, living, in, Germany, .]|\n",
            "|[Paula, is, also, a, good, person, .]              |\n",
            "|[She, lives, in, London, .]                        |\n",
            "+---------------------------------------------------+\n",
            "\n"
          ],
          "name": "stdout"
        }
      ]
    },
    {
      "cell_type": "code",
      "metadata": {
        "colab": {
          "base_uri": "https://localhost:8080/"
        },
        "id": "QoH0dFkDvVFW",
        "outputId": "dc3b7875-29b1-4cf8-f6ee-c45685a24548"
      },
      "source": [
        "result.select('ner.result').show(truncate=False)"
      ],
      "execution_count": 35,
      "outputs": [
        {
          "output_type": "stream",
          "text": [
            "+-----------------------------------+\n",
            "|result                             |\n",
            "+-----------------------------------+\n",
            "|[B-PER, O, O, O, O, O, O, B-LOC, O]|\n",
            "|[B-PER, O, O, O, O, O, O]          |\n",
            "|[O, O, O, B-LOC, O]                |\n",
            "+-----------------------------------+\n",
            "\n"
          ],
          "name": "stdout"
        }
      ]
    },
    {
      "cell_type": "code",
      "metadata": {
        "colab": {
          "base_uri": "https://localhost:8080/"
        },
        "id": "RD1Yb3-TwBFY",
        "outputId": "602e0572-74a2-4bc5-e50a-fa5f6d33fc22"
      },
      "source": [
        "result.select('ner.begin', 'ner.end').show(truncate=False)"
      ],
      "execution_count": 37,
      "outputs": [
        {
          "output_type": "stream",
          "text": [
            "+---------------------------------+---------------------------------+\n",
            "|begin                            |end                              |\n",
            "+---------------------------------+---------------------------------+\n",
            "|[0, 6, 9, 11, 16, 23, 30, 33, 39]|[4, 7, 9, 14, 21, 28, 31, 38, 39]|\n",
            "|[41, 47, 50, 55, 57, 62, 68]     |[45, 48, 53, 55, 60, 67, 68]     |\n",
            "|[70, 74, 80, 83, 89]             |[72, 78, 81, 88, 89]             |\n",
            "+---------------------------------+---------------------------------+\n",
            "\n"
          ],
          "name": "stdout"
        }
      ]
    },
    {
      "cell_type": "code",
      "metadata": {
        "colab": {
          "base_uri": "https://localhost:8080/"
        },
        "id": "ZOkdchirwZ9Q",
        "outputId": "127e6224-b6e1-475d-f770-c7370e10d66b"
      },
      "source": [
        "result.select('chunk.result', 'chunk.begin', 'chunk.end').show(truncate=False)"
      ],
      "execution_count": 38,
      "outputs": [
        {
          "output_type": "stream",
          "text": [
            "+---------------+-------+-------+\n",
            "|result         |begin  |end    |\n",
            "+---------------+-------+-------+\n",
            "|[Peter, Germny]|[0, 33]|[4, 38]|\n",
            "|[Paula]        |[41]   |[45]   |\n",
            "|[London]       |[83]   |[88]   |\n",
            "+---------------+-------+-------+\n",
            "\n"
          ],
          "name": "stdout"
        }
      ]
    },
    {
      "cell_type": "code",
      "metadata": {
        "id": "Qz6SDT-9w-xO"
      },
      "source": [
        "light = LightPipeline(model)"
      ],
      "execution_count": 39,
      "outputs": []
    },
    {
      "cell_type": "code",
      "metadata": {
        "colab": {
          "base_uri": "https://localhost:8080/"
        },
        "id": "n5X9zCYjxZlK",
        "outputId": "2fefc47b-21d1-4185-df5f-221e3eb3ee10"
      },
      "source": [
        "light.annotate('Bruno is living in Italy, and he is doing well')"
      ],
      "execution_count": 40,
      "outputs": [
        {
          "output_type": "execute_result",
          "data": {
            "text/plain": [
              "{'checked': ['Bruno',\n",
              "  'is',\n",
              "  'living',\n",
              "  'in',\n",
              "  'Italy',\n",
              "  ',',\n",
              "  'and',\n",
              "  'he',\n",
              "  'is',\n",
              "  'doing',\n",
              "  'well'],\n",
              " 'chunk': ['Bruno', 'Italy'],\n",
              " 'document': ['Bruno is living in Italy, and he is doing well'],\n",
              " 'embeddings': ['Bruno',\n",
              "  'is',\n",
              "  'living',\n",
              "  'in',\n",
              "  'Italy',\n",
              "  ',',\n",
              "  'and',\n",
              "  'he',\n",
              "  'is',\n",
              "  'doing',\n",
              "  'well'],\n",
              " 'ner': ['B-PER', 'O', 'O', 'O', 'B-LOC', 'O', 'O', 'O', 'O', 'O', 'O'],\n",
              " 'sentence': ['Bruno is living in Italy, and he is doing well'],\n",
              " 'token': ['Bruno',\n",
              "  'is',\n",
              "  'living',\n",
              "  'in',\n",
              "  'Italy',\n",
              "  ',',\n",
              "  'and',\n",
              "  'he',\n",
              "  'is',\n",
              "  'doing',\n",
              "  'well']}"
            ]
          },
          "metadata": {
            "tags": []
          },
          "execution_count": 40
        }
      ]
    },
    {
      "cell_type": "code",
      "metadata": {
        "id": "NkaLZQL9xt6-"
      },
      "source": [
        ""
      ],
      "execution_count": null,
      "outputs": []
    }
  ]
}